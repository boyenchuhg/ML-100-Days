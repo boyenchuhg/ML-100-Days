{
 "cells": [
  {
   "cell_type": "markdown",
   "metadata": {
    "collapsed": true
   },
   "source": [
    "### 方法一"
   ]
  },
  {
   "cell_type": "code",
   "execution_count": 13,
   "metadata": {},
   "outputs": [
    {
     "data": {
      "text/html": [
       "<table>\n",
       "<thead><tr><th scope=col>cities</th><th scope=col>weekdays</th><th scope=col>visitors</th></tr></thead>\n",
       "<tbody>\n",
       "\t<tr><td>Austin</td><td>Sun   </td><td>139   </td></tr>\n",
       "\t<tr><td>Dallas</td><td>Sun   </td><td>237   </td></tr>\n",
       "\t<tr><td>Austin</td><td>Mon   </td><td>326   </td></tr>\n",
       "\t<tr><td>Dallas</td><td>Mon   </td><td>456   </td></tr>\n",
       "</tbody>\n",
       "</table>\n"
      ],
      "text/latex": [
       "\\begin{tabular}{r|lll}\n",
       " cities & weekdays & visitors\\\\\n",
       "\\hline\n",
       "\t Austin & Sun    & 139   \\\\\n",
       "\t Dallas & Sun    & 237   \\\\\n",
       "\t Austin & Mon    & 326   \\\\\n",
       "\t Dallas & Mon    & 456   \\\\\n",
       "\\end{tabular}\n"
      ],
      "text/markdown": [
       "\n",
       "cities | weekdays | visitors | \n",
       "|---|---|---|---|\n",
       "| Austin | Sun    | 139    | \n",
       "| Dallas | Sun    | 237    | \n",
       "| Austin | Mon    | 326    | \n",
       "| Dallas | Mon    | 456    | \n",
       "\n",
       "\n"
      ],
      "text/plain": [
       "  cities weekdays visitors\n",
       "1 Austin Sun      139     \n",
       "2 Dallas Sun      237     \n",
       "3 Austin Mon      326     \n",
       "4 Dallas Mon      456     "
      ]
     },
     "metadata": {},
     "output_type": "display_data"
    }
   ],
   "source": [
    "data <- data.frame(c('Austin', 'Dallas', 'Austin', 'Dallas'), c('Sun', 'Sun', 'Mon', 'Mon'), c(139, 237, 326, 456))\n",
    "colnames(data) <- c('cities', 'weekdays', 'visitors')\n",
    "data"
   ]
  },
  {
   "cell_type": "markdown",
   "metadata": {},
   "source": [
    "### 方法二"
   ]
  },
  {
   "cell_type": "code",
   "execution_count": 14,
   "metadata": {},
   "outputs": [
    {
     "data": {
      "text/html": [
       "<table>\n",
       "<thead><tr><th scope=col>cities</th><th scope=col>weekdays</th><th scope=col>visitors</th></tr></thead>\n",
       "<tbody>\n",
       "\t<tr><td>Austin</td><td>Sun   </td><td>139   </td></tr>\n",
       "\t<tr><td>Dallas</td><td>Sun   </td><td>237   </td></tr>\n",
       "\t<tr><td>Austin</td><td>Mon   </td><td>326   </td></tr>\n",
       "\t<tr><td>Dallas</td><td>Mon   </td><td>456   </td></tr>\n",
       "</tbody>\n",
       "</table>\n"
      ],
      "text/latex": [
       "\\begin{tabular}{r|lll}\n",
       " cities & weekdays & visitors\\\\\n",
       "\\hline\n",
       "\t Austin & Sun    & 139   \\\\\n",
       "\t Dallas & Sun    & 237   \\\\\n",
       "\t Austin & Mon    & 326   \\\\\n",
       "\t Dallas & Mon    & 456   \\\\\n",
       "\\end{tabular}\n"
      ],
      "text/markdown": [
       "\n",
       "cities | weekdays | visitors | \n",
       "|---|---|---|---|\n",
       "| Austin | Sun    | 139    | \n",
       "| Dallas | Sun    | 237    | \n",
       "| Austin | Mon    | 326    | \n",
       "| Dallas | Mon    | 456    | \n",
       "\n",
       "\n"
      ],
      "text/plain": [
       "  cities weekdays visitors\n",
       "1 Austin Sun      139     \n",
       "2 Dallas Sun      237     \n",
       "3 Austin Mon      326     \n",
       "4 Dallas Mon      456     "
      ]
     },
     "metadata": {},
     "output_type": "display_data"
    }
   ],
   "source": [
    "cities <- c('Austin', 'Dallas', 'Austin', 'Dallas')\n",
    "weekdays <- c('Sun', 'Sun', 'Mon', 'Mon')\n",
    "visitors <- c(139, 237, 326, 456)\n",
    "data <- data.frame(cities, weekdays, visitors)\n",
    "data"
   ]
  },
  {
   "cell_type": "markdown",
   "metadata": {},
   "source": [
    "## 一個簡單例子\n",
    "假設你想知道如果利用 pandas 計算上述資料中，每個 weekday 的平均 visitor 數量，\n",
    "\n",
    "通過 google 你找到了 https://stackoverflow.com/questions/30482071/how-to-calculate-mean-values-grouped-on-another-column-in-pandas\n",
    "\n",
    "想要測試的時候就可以用 visitors_1 這個只有 4 筆資料的資料集來測試程式碼"
   ]
  },
  {
   "cell_type": "code",
   "execution_count": 18,
   "metadata": {},
   "outputs": [
    {
     "data": {
      "text/html": [
       "<table>\n",
       "<thead><tr><th scope=col>weekdays</th><th scope=col>mean_visitors</th></tr></thead>\n",
       "<tbody>\n",
       "\t<tr><td>Mon</td><td>391</td></tr>\n",
       "\t<tr><td>Sun</td><td>188</td></tr>\n",
       "</tbody>\n",
       "</table>\n"
      ],
      "text/latex": [
       "\\begin{tabular}{r|ll}\n",
       " weekdays & mean\\_visitors\\\\\n",
       "\\hline\n",
       "\t Mon & 391\\\\\n",
       "\t Sun & 188\\\\\n",
       "\\end{tabular}\n"
      ],
      "text/markdown": [
       "\n",
       "weekdays | mean_visitors | \n",
       "|---|---|\n",
       "| Mon | 391 | \n",
       "| Sun | 188 | \n",
       "\n",
       "\n"
      ],
      "text/plain": [
       "  weekdays mean_visitors\n",
       "1 Mon      391          \n",
       "2 Sun      188          "
      ]
     },
     "metadata": {},
     "output_type": "display_data"
    }
   ],
   "source": [
    "library(plyr)\n",
    "ddply(data, .variables = \"weekdays\", summarize, mean_visitors = mean(visitors))"
   ]
  },
  {
   "cell_type": "markdown",
   "metadata": {},
   "source": [
    "## 練習時間\n",
    "在小量的資料上，我們用眼睛就可以看得出來程式碼是否有跑出我們理想中的結果\n",
    "\n",
    "請嘗試想像一個你需要的資料結構 (裡面的值可以是隨機的)，然後用上述的方法把它變成 pandas DataFrame\n",
    "\n",
    "#### Ex: 想像一個 dataframe 有兩個欄位，一個是國家，一個是人口，求人口數最多的國家\n",
    "\n",
    "### Hints: [隨機產生數值](https://blog.csdn.net/christianashannon/article/details/78867204)"
   ]
  },
  {
   "cell_type": "code",
   "execution_count": 26,
   "metadata": {},
   "outputs": [
    {
     "data": {
      "text/html": [
       "<table>\n",
       "<thead><tr><th scope=col>countries</th><th scope=col>population</th></tr></thead>\n",
       "<tbody>\n",
       "\t<tr><td>A   </td><td>3837</td></tr>\n",
       "\t<tr><td>B   </td><td>5566</td></tr>\n",
       "\t<tr><td>C   </td><td>1865</td></tr>\n",
       "\t<tr><td>D   </td><td>6746</td></tr>\n",
       "</tbody>\n",
       "</table>\n"
      ],
      "text/latex": [
       "\\begin{tabular}{r|ll}\n",
       " countries & population\\\\\n",
       "\\hline\n",
       "\t A    & 3837\\\\\n",
       "\t B    & 5566\\\\\n",
       "\t C    & 1865\\\\\n",
       "\t D    & 6746\\\\\n",
       "\\end{tabular}\n"
      ],
      "text/markdown": [
       "\n",
       "countries | population | \n",
       "|---|---|---|---|\n",
       "| A    | 3837 | \n",
       "| B    | 5566 | \n",
       "| C    | 1865 | \n",
       "| D    | 6746 | \n",
       "\n",
       "\n"
      ],
      "text/plain": [
       "  countries population\n",
       "1 A         3837      \n",
       "2 B         5566      \n",
       "3 C         1865      \n",
       "4 D         6746      "
      ]
     },
     "metadata": {},
     "output_type": "display_data"
    },
    {
     "data": {
      "text/html": [
       "<dl class=dl-horizontal>\n",
       "\t<dt>countries</dt>\n",
       "\t\t<dd>'D'</dd>\n",
       "\t<dt>population</dt>\n",
       "\t\t<dd>'6746'</dd>\n",
       "</dl>\n"
      ],
      "text/latex": [
       "\\begin{description*}\n",
       "\\item[countries] 'D'\n",
       "\\item[population] '6746'\n",
       "\\end{description*}\n"
      ],
      "text/markdown": [
       "countries\n",
       ":   'D'population\n",
       ":   '6746'\n",
       "\n"
      ],
      "text/plain": [
       " countries population \n",
       "       \"D\"     \"6746\" "
      ]
     },
     "metadata": {},
     "output_type": "display_data"
    }
   ],
   "source": [
    "data <- data.frame(c('A', 'B', 'C', 'D'), sample(10^3:10^4, 4, replace = TRUE))\n",
    "colnames(data) <- c('countries', 'population')\n",
    "data\n",
    "apply(data, 2, max)"
   ]
  }
 ],
 "metadata": {
  "kernelspec": {
   "display_name": "R",
   "language": "R",
   "name": "ir"
  },
  "language_info": {
   "codemirror_mode": "r",
   "file_extension": ".r",
   "mimetype": "text/x-r-source",
   "name": "R",
   "pygments_lexer": "r",
   "version": "3.5.1"
  }
 },
 "nbformat": 4,
 "nbformat_minor": 2
}
