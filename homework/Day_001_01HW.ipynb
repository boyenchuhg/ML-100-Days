{
 "cells": [
  {
   "cell_type": "markdown",
   "metadata": {},
   "source": [
    "作業1：\n",
    "\n",
    "請上 Kaggle, 在 Competitions 或 Dataset 中找一組競賽或資料並寫下：\n",
    "\n",
    "1. 你選的這組資料為何重要\n",
    "可透過對這組資料的分析，推估房屋價格，可影響房價政策⽅向。\n",
    "\n",
    "2. 資料從何而來 (tips: 譬如提供者是誰、以什麼方式蒐集)\n",
    "是由Dean De Cock提供，其原本作為資料科學的教學。\n",
    "\n",
    "3. 蒐集而來的資料型態為何\n",
    "結構化資料，包含各種有買賣資訊的房屋。\n",
    "\n",
    "4. 這組資料想解決的問題如何評估\n",
    "採用多元迴歸，R2將是適當的評估是否洽當的指標。\n",
    "\n",
    "作業2：\n",
    "\n",
    "想像你經營一個自由載客車隊，你希望能透過數據分析以提升業績，請你思考並描述你如何規劃整體的分析/解決方案：\n",
    "\n",
    "1. 核心問題為何 (tips：如何定義 「提升業績 & 你的假設」)\n",
    "平均每位司機、每小時的業績如何提升，而業績分為兩個部分：載客人數以及平均每位客人的單價，不同價格將帶來不同載客人數，兩者乘積越高代表業績提升。\n",
    "\n",
    "2. 資料從何而來 (tips：哪些資料可能會對你想問的問題產生影響 & 資料如何蒐集)\n",
    "(1)客人從何而來，是線上叫車嗎？\n",
    "(2)叫車時間。\n",
    "(3)乘車距離。\n",
    "\n",
    "3. 蒐集而來的資料型態為何\n",
    "結構化資料，包含出車的各項資訊。\n",
    "\n",
    "4. 你要回答的問題，其如何評估 (tips：你的假設如何驗證)\n",
    "透過不同價格比對，瞭解對於價格的敏感度，可以得到最佳價格，以獲取最高業績。\n"
   ]
  }
 ],
 "metadata": {
  "anaconda-cloud": {},
  "kernelspec": {
   "display_name": "Python 3",
   "language": "python",
   "name": "python3"
  },
  "language_info": {
   "codemirror_mode": {
    "name": "ipython",
    "version": 3
   },
   "file_extension": ".py",
   "mimetype": "text/x-python",
   "name": "python",
   "nbconvert_exporter": "python",
   "pygments_lexer": "ipython3",
   "version": "3.5.6"
  }
 },
 "nbformat": 4,
 "nbformat_minor": 1
}
